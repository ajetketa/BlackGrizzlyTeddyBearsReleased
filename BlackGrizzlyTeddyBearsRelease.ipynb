{
  "nbformat": 4,
  "nbformat_minor": 0,
  "metadata": {
    "colab": {
      "name": "BlackGrizzlyTeddyBearsRelease.ipynb",
      "provenance": []
    },
    "kernelspec": {
      "name": "python3",
      "display_name": "Python 3"
    },
    "language_info": {
      "name": "python"
    },
    "widgets": {
      "application/vnd.jupyter.widget-state+json": {
        "1472446c35184499b38d9a2dd0a0c59e": {
          "model_module": "@jupyter-widgets/controls",
          "model_name": "FileUploadModel",
          "model_module_version": "1.5.0",
          "state": {
            "_counter": 0,
            "_dom_classes": [],
            "_model_module": "@jupyter-widgets/controls",
            "_model_module_version": "1.5.0",
            "_model_name": "FileUploadModel",
            "_view_count": null,
            "_view_module": "@jupyter-widgets/controls",
            "_view_module_version": "1.5.0",
            "_view_name": "FileUploadView",
            "accept": "",
            "button_style": "",
            "data": [],
            "description": "Upload",
            "description_tooltip": null,
            "disabled": false,
            "error": "",
            "icon": "upload",
            "layout": "IPY_MODEL_16db8b17d5834942a6c59b90ee87d4d2",
            "metadata": [],
            "multiple": false,
            "style": "IPY_MODEL_917f5a1202354566bdf49c7cad3e4031"
          }
        },
        "16db8b17d5834942a6c59b90ee87d4d2": {
          "model_module": "@jupyter-widgets/base",
          "model_name": "LayoutModel",
          "model_module_version": "1.2.0",
          "state": {
            "_model_module": "@jupyter-widgets/base",
            "_model_module_version": "1.2.0",
            "_model_name": "LayoutModel",
            "_view_count": null,
            "_view_module": "@jupyter-widgets/base",
            "_view_module_version": "1.2.0",
            "_view_name": "LayoutView",
            "align_content": null,
            "align_items": null,
            "align_self": null,
            "border": null,
            "bottom": null,
            "display": null,
            "flex": null,
            "flex_flow": null,
            "grid_area": null,
            "grid_auto_columns": null,
            "grid_auto_flow": null,
            "grid_auto_rows": null,
            "grid_column": null,
            "grid_gap": null,
            "grid_row": null,
            "grid_template_areas": null,
            "grid_template_columns": null,
            "grid_template_rows": null,
            "height": null,
            "justify_content": null,
            "justify_items": null,
            "left": null,
            "margin": null,
            "max_height": null,
            "max_width": null,
            "min_height": null,
            "min_width": null,
            "object_fit": null,
            "object_position": null,
            "order": null,
            "overflow": null,
            "overflow_x": null,
            "overflow_y": null,
            "padding": null,
            "right": null,
            "top": null,
            "visibility": null,
            "width": null
          }
        },
        "917f5a1202354566bdf49c7cad3e4031": {
          "model_module": "@jupyter-widgets/controls",
          "model_name": "ButtonStyleModel",
          "model_module_version": "1.5.0",
          "state": {
            "_model_module": "@jupyter-widgets/controls",
            "_model_module_version": "1.5.0",
            "_model_name": "ButtonStyleModel",
            "_view_count": null,
            "_view_module": "@jupyter-widgets/base",
            "_view_module_version": "1.2.0",
            "_view_name": "StyleView",
            "button_color": null,
            "font_weight": ""
          }
        },
        "2705e758ed6e4ebd85941576559127df": {
          "model_module": "@jupyter-widgets/output",
          "model_name": "OutputModel",
          "model_module_version": "1.0.0",
          "state": {
            "_dom_classes": [],
            "_model_module": "@jupyter-widgets/output",
            "_model_module_version": "1.0.0",
            "_model_name": "OutputModel",
            "_view_count": null,
            "_view_module": "@jupyter-widgets/output",
            "_view_module_version": "1.0.0",
            "_view_name": "OutputView",
            "layout": "IPY_MODEL_b642d756b3924cd58506ee70c13a2ad8",
            "msg_id": "",
            "outputs": [
              {
                "output_type": "display_data",
                "data": {
                  "text/plain": "<PIL.Image.Image image mode=RGB size=128x85 at 0x7F4D5150F8D0>",
                  "image/png": "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\n"
                },
                "metadata": {}
              }
            ]
          }
        },
        "b642d756b3924cd58506ee70c13a2ad8": {
          "model_module": "@jupyter-widgets/base",
          "model_name": "LayoutModel",
          "model_module_version": "1.2.0",
          "state": {
            "_model_module": "@jupyter-widgets/base",
            "_model_module_version": "1.2.0",
            "_model_name": "LayoutModel",
            "_view_count": null,
            "_view_module": "@jupyter-widgets/base",
            "_view_module_version": "1.2.0",
            "_view_name": "LayoutView",
            "align_content": null,
            "align_items": null,
            "align_self": null,
            "border": null,
            "bottom": null,
            "display": null,
            "flex": null,
            "flex_flow": null,
            "grid_area": null,
            "grid_auto_columns": null,
            "grid_auto_flow": null,
            "grid_auto_rows": null,
            "grid_column": null,
            "grid_gap": null,
            "grid_row": null,
            "grid_template_areas": null,
            "grid_template_columns": null,
            "grid_template_rows": null,
            "height": null,
            "justify_content": null,
            "justify_items": null,
            "left": null,
            "margin": null,
            "max_height": null,
            "max_width": null,
            "min_height": null,
            "min_width": null,
            "object_fit": null,
            "object_position": null,
            "order": null,
            "overflow": null,
            "overflow_x": null,
            "overflow_y": null,
            "padding": null,
            "right": null,
            "top": null,
            "visibility": null,
            "width": null
          }
        },
        "cd2ee57ee2574f5bba95c873ded95834": {
          "model_module": "@jupyter-widgets/controls",
          "model_name": "ButtonModel",
          "model_module_version": "1.5.0",
          "state": {
            "_dom_classes": [],
            "_model_module": "@jupyter-widgets/controls",
            "_model_module_version": "1.5.0",
            "_model_name": "ButtonModel",
            "_view_count": null,
            "_view_module": "@jupyter-widgets/controls",
            "_view_module_version": "1.5.0",
            "_view_name": "ButtonView",
            "button_style": "",
            "description": "Classify",
            "disabled": false,
            "icon": "",
            "layout": "IPY_MODEL_ff2e9aa4e1c74fd0808a6d682c32512c",
            "style": "IPY_MODEL_e2d7a9e74fa143a9b3b67163d20d91b8",
            "tooltip": ""
          }
        },
        "ff2e9aa4e1c74fd0808a6d682c32512c": {
          "model_module": "@jupyter-widgets/base",
          "model_name": "LayoutModel",
          "model_module_version": "1.2.0",
          "state": {
            "_model_module": "@jupyter-widgets/base",
            "_model_module_version": "1.2.0",
            "_model_name": "LayoutModel",
            "_view_count": null,
            "_view_module": "@jupyter-widgets/base",
            "_view_module_version": "1.2.0",
            "_view_name": "LayoutView",
            "align_content": null,
            "align_items": null,
            "align_self": null,
            "border": null,
            "bottom": null,
            "display": null,
            "flex": null,
            "flex_flow": null,
            "grid_area": null,
            "grid_auto_columns": null,
            "grid_auto_flow": null,
            "grid_auto_rows": null,
            "grid_column": null,
            "grid_gap": null,
            "grid_row": null,
            "grid_template_areas": null,
            "grid_template_columns": null,
            "grid_template_rows": null,
            "height": null,
            "justify_content": null,
            "justify_items": null,
            "left": null,
            "margin": null,
            "max_height": null,
            "max_width": null,
            "min_height": null,
            "min_width": null,
            "object_fit": null,
            "object_position": null,
            "order": null,
            "overflow": null,
            "overflow_x": null,
            "overflow_y": null,
            "padding": null,
            "right": null,
            "top": null,
            "visibility": null,
            "width": null
          }
        },
        "e2d7a9e74fa143a9b3b67163d20d91b8": {
          "model_module": "@jupyter-widgets/controls",
          "model_name": "ButtonStyleModel",
          "model_module_version": "1.5.0",
          "state": {
            "_model_module": "@jupyter-widgets/controls",
            "_model_module_version": "1.5.0",
            "_model_name": "ButtonStyleModel",
            "_view_count": null,
            "_view_module": "@jupyter-widgets/base",
            "_view_module_version": "1.2.0",
            "_view_name": "StyleView",
            "button_color": null,
            "font_weight": ""
          }
        },
        "472e1a6321a24a2badfc5354f371eb55": {
          "model_module": "@jupyter-widgets/controls",
          "model_name": "VBoxModel",
          "model_module_version": "1.5.0",
          "state": {
            "_dom_classes": [],
            "_model_module": "@jupyter-widgets/controls",
            "_model_module_version": "1.5.0",
            "_model_name": "VBoxModel",
            "_view_count": null,
            "_view_module": "@jupyter-widgets/controls",
            "_view_module_version": "1.5.0",
            "_view_name": "VBoxView",
            "box_style": "",
            "children": [
              "IPY_MODEL_d43a4ccec6954a42a2bb1b050579f6f2",
              "IPY_MODEL_7f1fcffde1d442f8a03cde432b52f3cb",
              "IPY_MODEL_cd2ee57ee2574f5bba95c873ded95834",
              "IPY_MODEL_2705e758ed6e4ebd85941576559127df",
              "IPY_MODEL_d8ac031ca32c40859d575aa9561f93bc"
            ],
            "layout": "IPY_MODEL_32dc2a003b684bc7ad77558915b69668"
          }
        },
        "d43a4ccec6954a42a2bb1b050579f6f2": {
          "model_module": "@jupyter-widgets/controls",
          "model_name": "LabelModel",
          "model_module_version": "1.5.0",
          "state": {
            "_dom_classes": [],
            "_model_module": "@jupyter-widgets/controls",
            "_model_module_version": "1.5.0",
            "_model_name": "LabelModel",
            "_view_count": null,
            "_view_module": "@jupyter-widgets/controls",
            "_view_module_version": "1.5.0",
            "_view_name": "LabelView",
            "description": "",
            "description_tooltip": null,
            "layout": "IPY_MODEL_0cf131e1d1f044379468985090ea8e9d",
            "placeholder": "​",
            "style": "IPY_MODEL_99357c89cba542c5b3539183e77492b0",
            "value": "Select your bear!"
          }
        },
        "7f1fcffde1d442f8a03cde432b52f3cb": {
          "model_module": "@jupyter-widgets/controls",
          "model_name": "FileUploadModel",
          "model_module_version": "1.5.0",
          "state": {
            "_counter": 2,
            "_dom_classes": [],
            "_model_module": "@jupyter-widgets/controls",
            "_model_module_version": "1.5.0",
            "_model_name": "FileUploadModel",
            "_view_count": null,
            "_view_module": "@jupyter-widgets/controls",
            "_view_module_version": "1.5.0",
            "_view_name": "FileUploadView",
            "accept": "",
            "button_style": "",
            "data": [
              null
            ],
            "description": "Upload",
            "description_tooltip": null,
            "disabled": false,
            "error": "",
            "icon": "upload",
            "layout": "IPY_MODEL_675367ddbfd6400e89260a84eaee2736",
            "metadata": [
              {
                "name": "teddyBear.webp",
                "type": "image/webp",
                "size": 55456,
                "lastModified": 1648466959972
              }
            ],
            "multiple": false,
            "style": "IPY_MODEL_aa94a8beec824e6fa4a8b199c55bfcd0"
          }
        },
        "d8ac031ca32c40859d575aa9561f93bc": {
          "model_module": "@jupyter-widgets/controls",
          "model_name": "LabelModel",
          "model_module_version": "1.5.0",
          "state": {
            "_dom_classes": [],
            "_model_module": "@jupyter-widgets/controls",
            "_model_module_version": "1.5.0",
            "_model_name": "LabelModel",
            "_view_count": null,
            "_view_module": "@jupyter-widgets/controls",
            "_view_module_version": "1.5.0",
            "_view_name": "LabelView",
            "description": "",
            "description_tooltip": null,
            "layout": "IPY_MODEL_4f0ff04a2f824012a8d9b9722c3ea0b1",
            "placeholder": "​",
            "style": "IPY_MODEL_47d505de51d6434cb6b88171a157ff1c",
            "value": "Prediction: teddy; Probability: 0.9678"
          }
        },
        "32dc2a003b684bc7ad77558915b69668": {
          "model_module": "@jupyter-widgets/base",
          "model_name": "LayoutModel",
          "model_module_version": "1.2.0",
          "state": {
            "_model_module": "@jupyter-widgets/base",
            "_model_module_version": "1.2.0",
            "_model_name": "LayoutModel",
            "_view_count": null,
            "_view_module": "@jupyter-widgets/base",
            "_view_module_version": "1.2.0",
            "_view_name": "LayoutView",
            "align_content": null,
            "align_items": null,
            "align_self": null,
            "border": null,
            "bottom": null,
            "display": null,
            "flex": null,
            "flex_flow": null,
            "grid_area": null,
            "grid_auto_columns": null,
            "grid_auto_flow": null,
            "grid_auto_rows": null,
            "grid_column": null,
            "grid_gap": null,
            "grid_row": null,
            "grid_template_areas": null,
            "grid_template_columns": null,
            "grid_template_rows": null,
            "height": null,
            "justify_content": null,
            "justify_items": null,
            "left": null,
            "margin": null,
            "max_height": null,
            "max_width": null,
            "min_height": null,
            "min_width": null,
            "object_fit": null,
            "object_position": null,
            "order": null,
            "overflow": null,
            "overflow_x": null,
            "overflow_y": null,
            "padding": null,
            "right": null,
            "top": null,
            "visibility": null,
            "width": null
          }
        },
        "0cf131e1d1f044379468985090ea8e9d": {
          "model_module": "@jupyter-widgets/base",
          "model_name": "LayoutModel",
          "model_module_version": "1.2.0",
          "state": {
            "_model_module": "@jupyter-widgets/base",
            "_model_module_version": "1.2.0",
            "_model_name": "LayoutModel",
            "_view_count": null,
            "_view_module": "@jupyter-widgets/base",
            "_view_module_version": "1.2.0",
            "_view_name": "LayoutView",
            "align_content": null,
            "align_items": null,
            "align_self": null,
            "border": null,
            "bottom": null,
            "display": null,
            "flex": null,
            "flex_flow": null,
            "grid_area": null,
            "grid_auto_columns": null,
            "grid_auto_flow": null,
            "grid_auto_rows": null,
            "grid_column": null,
            "grid_gap": null,
            "grid_row": null,
            "grid_template_areas": null,
            "grid_template_columns": null,
            "grid_template_rows": null,
            "height": null,
            "justify_content": null,
            "justify_items": null,
            "left": null,
            "margin": null,
            "max_height": null,
            "max_width": null,
            "min_height": null,
            "min_width": null,
            "object_fit": null,
            "object_position": null,
            "order": null,
            "overflow": null,
            "overflow_x": null,
            "overflow_y": null,
            "padding": null,
            "right": null,
            "top": null,
            "visibility": null,
            "width": null
          }
        },
        "99357c89cba542c5b3539183e77492b0": {
          "model_module": "@jupyter-widgets/controls",
          "model_name": "DescriptionStyleModel",
          "model_module_version": "1.5.0",
          "state": {
            "_model_module": "@jupyter-widgets/controls",
            "_model_module_version": "1.5.0",
            "_model_name": "DescriptionStyleModel",
            "_view_count": null,
            "_view_module": "@jupyter-widgets/base",
            "_view_module_version": "1.2.0",
            "_view_name": "StyleView",
            "description_width": ""
          }
        },
        "675367ddbfd6400e89260a84eaee2736": {
          "model_module": "@jupyter-widgets/base",
          "model_name": "LayoutModel",
          "model_module_version": "1.2.0",
          "state": {
            "_model_module": "@jupyter-widgets/base",
            "_model_module_version": "1.2.0",
            "_model_name": "LayoutModel",
            "_view_count": null,
            "_view_module": "@jupyter-widgets/base",
            "_view_module_version": "1.2.0",
            "_view_name": "LayoutView",
            "align_content": null,
            "align_items": null,
            "align_self": null,
            "border": null,
            "bottom": null,
            "display": null,
            "flex": null,
            "flex_flow": null,
            "grid_area": null,
            "grid_auto_columns": null,
            "grid_auto_flow": null,
            "grid_auto_rows": null,
            "grid_column": null,
            "grid_gap": null,
            "grid_row": null,
            "grid_template_areas": null,
            "grid_template_columns": null,
            "grid_template_rows": null,
            "height": null,
            "justify_content": null,
            "justify_items": null,
            "left": null,
            "margin": null,
            "max_height": null,
            "max_width": null,
            "min_height": null,
            "min_width": null,
            "object_fit": null,
            "object_position": null,
            "order": null,
            "overflow": null,
            "overflow_x": null,
            "overflow_y": null,
            "padding": null,
            "right": null,
            "top": null,
            "visibility": null,
            "width": null
          }
        },
        "aa94a8beec824e6fa4a8b199c55bfcd0": {
          "model_module": "@jupyter-widgets/controls",
          "model_name": "ButtonStyleModel",
          "model_module_version": "1.5.0",
          "state": {
            "_model_module": "@jupyter-widgets/controls",
            "_model_module_version": "1.5.0",
            "_model_name": "ButtonStyleModel",
            "_view_count": null,
            "_view_module": "@jupyter-widgets/base",
            "_view_module_version": "1.2.0",
            "_view_name": "StyleView",
            "button_color": null,
            "font_weight": ""
          }
        },
        "4f0ff04a2f824012a8d9b9722c3ea0b1": {
          "model_module": "@jupyter-widgets/base",
          "model_name": "LayoutModel",
          "model_module_version": "1.2.0",
          "state": {
            "_model_module": "@jupyter-widgets/base",
            "_model_module_version": "1.2.0",
            "_model_name": "LayoutModel",
            "_view_count": null,
            "_view_module": "@jupyter-widgets/base",
            "_view_module_version": "1.2.0",
            "_view_name": "LayoutView",
            "align_content": null,
            "align_items": null,
            "align_self": null,
            "border": null,
            "bottom": null,
            "display": null,
            "flex": null,
            "flex_flow": null,
            "grid_area": null,
            "grid_auto_columns": null,
            "grid_auto_flow": null,
            "grid_auto_rows": null,
            "grid_column": null,
            "grid_gap": null,
            "grid_row": null,
            "grid_template_areas": null,
            "grid_template_columns": null,
            "grid_template_rows": null,
            "height": null,
            "justify_content": null,
            "justify_items": null,
            "left": null,
            "margin": null,
            "max_height": null,
            "max_width": null,
            "min_height": null,
            "min_width": null,
            "object_fit": null,
            "object_position": null,
            "order": null,
            "overflow": null,
            "overflow_x": null,
            "overflow_y": null,
            "padding": null,
            "right": null,
            "top": null,
            "visibility": null,
            "width": null
          }
        },
        "47d505de51d6434cb6b88171a157ff1c": {
          "model_module": "@jupyter-widgets/controls",
          "model_name": "DescriptionStyleModel",
          "model_module_version": "1.5.0",
          "state": {
            "_model_module": "@jupyter-widgets/controls",
            "_model_module_version": "1.5.0",
            "_model_name": "DescriptionStyleModel",
            "_view_count": null,
            "_view_module": "@jupyter-widgets/base",
            "_view_module_version": "1.2.0",
            "_view_name": "StyleView",
            "description_width": ""
          }
        }
      }
    }
  },
  "cells": [
    {
      "cell_type": "code",
      "source": [
        "!pip install voila\n",
        "!jupyter serverextension enable --sys-prefix voila"
      ],
      "metadata": {
        "colab": {
          "base_uri": "https://localhost:8080/"
        },
        "id": "2MnFDl9ETpzm",
        "outputId": "8d013b04-f464-4136-b275-0570b93c19db"
      },
      "execution_count": 34,
      "outputs": [
        {
          "output_type": "stream",
          "name": "stdout",
          "text": [
            "Requirement already satisfied: voila in /usr/local/lib/python3.7/dist-packages (0.3.4)\n",
            "Requirement already satisfied: jupyter-server<2.0.0,>=0.3.0 in /usr/local/lib/python3.7/dist-packages (from voila) (1.15.6)\n",
            "Requirement already satisfied: nbconvert<7,>=6.4.2 in /usr/local/lib/python3.7/dist-packages (from voila) (6.4.5)\n",
            "Requirement already satisfied: jupyterlab-server<3,>=2.3.0 in /usr/local/lib/python3.7/dist-packages (from voila) (2.11.2)\n",
            "Requirement already satisfied: jupyter-client<8,>=6.1.3 in /usr/local/lib/python3.7/dist-packages (from voila) (7.1.2)\n",
            "Requirement already satisfied: traitlets<6,>=5.0.3 in /usr/local/lib/python3.7/dist-packages (from voila) (5.1.1)\n",
            "Requirement already satisfied: websockets>=9.0 in /usr/local/lib/python3.7/dist-packages (from voila) (10.2)\n",
            "Requirement already satisfied: nbclient<0.6,>=0.4.0 in /usr/local/lib/python3.7/dist-packages (from voila) (0.5.13)\n",
            "Requirement already satisfied: pyzmq>=13 in /usr/local/lib/python3.7/dist-packages (from jupyter-client<8,>=6.1.3->voila) (22.3.0)\n",
            "Requirement already satisfied: tornado>=4.1 in /usr/local/lib/python3.7/dist-packages (from jupyter-client<8,>=6.1.3->voila) (6.1)\n",
            "Requirement already satisfied: jupyter-core>=4.6.0 in /usr/local/lib/python3.7/dist-packages (from jupyter-client<8,>=6.1.3->voila) (4.9.2)\n",
            "Requirement already satisfied: python-dateutil>=2.1 in /usr/local/lib/python3.7/dist-packages (from jupyter-client<8,>=6.1.3->voila) (2.8.2)\n",
            "Requirement already satisfied: entrypoints in /usr/local/lib/python3.7/dist-packages (from jupyter-client<8,>=6.1.3->voila) (0.4)\n",
            "Requirement already satisfied: nest-asyncio>=1.5 in /usr/local/lib/python3.7/dist-packages (from jupyter-client<8,>=6.1.3->voila) (1.5.4)\n",
            "Requirement already satisfied: Send2Trash in /usr/local/lib/python3.7/dist-packages (from jupyter-server<2.0.0,>=0.3.0->voila) (1.8.0)\n",
            "Requirement already satisfied: jinja2 in /usr/local/lib/python3.7/dist-packages (from jupyter-server<2.0.0,>=0.3.0->voila) (3.1.1)\n",
            "Requirement already satisfied: prometheus-client in /usr/local/lib/python3.7/dist-packages (from jupyter-server<2.0.0,>=0.3.0->voila) (0.13.1)\n",
            "Requirement already satisfied: websocket-client in /usr/local/lib/python3.7/dist-packages (from jupyter-server<2.0.0,>=0.3.0->voila) (1.3.1)\n",
            "Requirement already satisfied: terminado>=0.8.3 in /usr/local/lib/python3.7/dist-packages (from jupyter-server<2.0.0,>=0.3.0->voila) (0.13.3)\n",
            "Requirement already satisfied: packaging in /usr/local/lib/python3.7/dist-packages (from jupyter-server<2.0.0,>=0.3.0->voila) (21.3)\n",
            "Requirement already satisfied: argon2-cffi in /usr/local/lib/python3.7/dist-packages (from jupyter-server<2.0.0,>=0.3.0->voila) (21.3.0)\n",
            "Requirement already satisfied: anyio>=3.1.0 in /usr/local/lib/python3.7/dist-packages (from jupyter-server<2.0.0,>=0.3.0->voila) (3.5.0)\n",
            "Requirement already satisfied: nbformat>=5.2.0 in /usr/local/lib/python3.7/dist-packages (from jupyter-server<2.0.0,>=0.3.0->voila) (5.2.0)\n",
            "Requirement already satisfied: typing-extensions in /usr/local/lib/python3.7/dist-packages (from anyio>=3.1.0->jupyter-server<2.0.0,>=0.3.0->voila) (3.10.0.2)\n",
            "Requirement already satisfied: sniffio>=1.1 in /usr/local/lib/python3.7/dist-packages (from anyio>=3.1.0->jupyter-server<2.0.0,>=0.3.0->voila) (1.2.0)\n",
            "Requirement already satisfied: idna>=2.8 in /usr/local/lib/python3.7/dist-packages (from anyio>=3.1.0->jupyter-server<2.0.0,>=0.3.0->voila) (2.10)\n",
            "Requirement already satisfied: json5 in /usr/local/lib/python3.7/dist-packages (from jupyterlab-server<3,>=2.3.0->voila) (0.9.6)\n",
            "Requirement already satisfied: jsonschema>=3.0.1 in /usr/local/lib/python3.7/dist-packages (from jupyterlab-server<3,>=2.3.0->voila) (4.3.3)\n",
            "Requirement already satisfied: requests in /usr/local/lib/python3.7/dist-packages (from jupyterlab-server<3,>=2.3.0->voila) (2.23.0)\n",
            "Requirement already satisfied: babel in /usr/local/lib/python3.7/dist-packages (from jupyterlab-server<3,>=2.3.0->voila) (2.9.1)\n",
            "Requirement already satisfied: MarkupSafe>=2.0 in /usr/local/lib/python3.7/dist-packages (from jinja2->jupyter-server<2.0.0,>=0.3.0->voila) (2.0.1)\n",
            "Requirement already satisfied: importlib-resources>=1.4.0 in /usr/local/lib/python3.7/dist-packages (from jsonschema>=3.0.1->jupyterlab-server<3,>=2.3.0->voila) (5.4.0)\n",
            "Requirement already satisfied: pyrsistent!=0.17.0,!=0.17.1,!=0.17.2,>=0.14.0 in /usr/local/lib/python3.7/dist-packages (from jsonschema>=3.0.1->jupyterlab-server<3,>=2.3.0->voila) (0.18.1)\n",
            "Requirement already satisfied: importlib-metadata in /usr/local/lib/python3.7/dist-packages (from jsonschema>=3.0.1->jupyterlab-server<3,>=2.3.0->voila) (4.11.3)\n",
            "Requirement already satisfied: attrs>=17.4.0 in /usr/local/lib/python3.7/dist-packages (from jsonschema>=3.0.1->jupyterlab-server<3,>=2.3.0->voila) (21.4.0)\n",
            "Requirement already satisfied: zipp>=3.1.0 in /usr/local/lib/python3.7/dist-packages (from importlib-resources>=1.4.0->jsonschema>=3.0.1->jupyterlab-server<3,>=2.3.0->voila) (3.7.0)\n",
            "Requirement already satisfied: pandocfilters>=1.4.1 in /usr/local/lib/python3.7/dist-packages (from nbconvert<7,>=6.4.2->voila) (1.5.0)\n",
            "Requirement already satisfied: defusedxml in /usr/local/lib/python3.7/dist-packages (from nbconvert<7,>=6.4.2->voila) (0.7.1)\n",
            "Requirement already satisfied: testpath in /usr/local/lib/python3.7/dist-packages (from nbconvert<7,>=6.4.2->voila) (0.6.0)\n",
            "Requirement already satisfied: jupyterlab-pygments in /usr/local/lib/python3.7/dist-packages (from nbconvert<7,>=6.4.2->voila) (0.1.2)\n",
            "Requirement already satisfied: beautifulsoup4 in /usr/local/lib/python3.7/dist-packages (from nbconvert<7,>=6.4.2->voila) (4.6.3)\n",
            "Requirement already satisfied: mistune<2,>=0.8.1 in /usr/local/lib/python3.7/dist-packages (from nbconvert<7,>=6.4.2->voila) (0.8.4)\n",
            "Requirement already satisfied: bleach in /usr/local/lib/python3.7/dist-packages (from nbconvert<7,>=6.4.2->voila) (4.1.0)\n",
            "Requirement already satisfied: pygments>=2.4.1 in /usr/local/lib/python3.7/dist-packages (from nbconvert<7,>=6.4.2->voila) (2.6.1)\n",
            "Requirement already satisfied: six>=1.5 in /usr/local/lib/python3.7/dist-packages (from python-dateutil>=2.1->jupyter-client<8,>=6.1.3->voila) (1.15.0)\n",
            "Requirement already satisfied: ptyprocess in /usr/local/lib/python3.7/dist-packages (from terminado>=0.8.3->jupyter-server<2.0.0,>=0.3.0->voila) (0.7.0)\n",
            "Requirement already satisfied: argon2-cffi-bindings in /usr/local/lib/python3.7/dist-packages (from argon2-cffi->jupyter-server<2.0.0,>=0.3.0->voila) (21.2.0)\n",
            "Requirement already satisfied: cffi>=1.0.1 in /usr/local/lib/python3.7/dist-packages (from argon2-cffi-bindings->argon2-cffi->jupyter-server<2.0.0,>=0.3.0->voila) (1.15.0)\n",
            "Requirement already satisfied: pycparser in /usr/local/lib/python3.7/dist-packages (from cffi>=1.0.1->argon2-cffi-bindings->argon2-cffi->jupyter-server<2.0.0,>=0.3.0->voila) (2.21)\n",
            "Requirement already satisfied: pytz>=2015.7 in /usr/local/lib/python3.7/dist-packages (from babel->jupyterlab-server<3,>=2.3.0->voila) (2018.9)\n",
            "Requirement already satisfied: webencodings in /usr/local/lib/python3.7/dist-packages (from bleach->nbconvert<7,>=6.4.2->voila) (0.5.1)\n",
            "Requirement already satisfied: pyparsing!=3.0.5,>=2.0.2 in /usr/local/lib/python3.7/dist-packages (from packaging->jupyter-server<2.0.0,>=0.3.0->voila) (3.0.7)\n",
            "Requirement already satisfied: urllib3!=1.25.0,!=1.25.1,<1.26,>=1.21.1 in /usr/local/lib/python3.7/dist-packages (from requests->jupyterlab-server<3,>=2.3.0->voila) (1.24.3)\n",
            "Requirement already satisfied: certifi>=2017.4.17 in /usr/local/lib/python3.7/dist-packages (from requests->jupyterlab-server<3,>=2.3.0->voila) (2021.10.8)\n",
            "Requirement already satisfied: chardet<4,>=3.0.2 in /usr/local/lib/python3.7/dist-packages (from requests->jupyterlab-server<3,>=2.3.0->voila) (3.0.4)\n",
            "Enabling: voila\n",
            "- Writing config: /usr/etc/jupyter\n",
            "    - Validating...\n",
            "Error loading server extension voila\n",
            "     \u001b[31m X\u001b[0m is voila importable?\n"
          ]
        }
      ]
    },
    {
      "cell_type": "code",
      "source": [
        "#hide\n",
        "!pip install -Uqq fastbook\n",
        "import fastbook\n",
        "fastbook.setup_book()\n",
        "from fastbook import *\n",
        "from fastai.vision.widgets import *"
      ],
      "metadata": {
        "colab": {
          "base_uri": "https://localhost:8080/"
        },
        "id": "Ij3-U6NGNXIw",
        "outputId": "8ceda7e3-7339-474d-97a7-99aa3025eddd"
      },
      "execution_count": 6,
      "outputs": [
        {
          "output_type": "stream",
          "name": "stdout",
          "text": [
            "\u001b[K     |████████████████████████████████| 720 kB 4.7 MB/s \n",
            "\u001b[K     |████████████████████████████████| 1.2 MB 43.8 MB/s \n",
            "\u001b[K     |████████████████████████████████| 49 kB 5.1 MB/s \n",
            "\u001b[K     |████████████████████████████████| 187 kB 47.3 MB/s \n",
            "\u001b[K     |████████████████████████████████| 56 kB 3.8 MB/s \n",
            "\u001b[K     |████████████████████████████████| 51 kB 307 kB/s \n",
            "\u001b[K     |████████████████████████████████| 561 kB 46.1 MB/s \n",
            "\u001b[K     |████████████████████████████████| 130 kB 53.6 MB/s \n",
            "\u001b[?25hMounted at /content/gdrive\n"
          ]
        }
      ]
    },
    {
      "cell_type": "code",
      "execution_count": 7,
      "metadata": {
        "colab": {
          "base_uri": "https://localhost:8080/",
          "height": 49,
          "referenced_widgets": [
            "1472446c35184499b38d9a2dd0a0c59e",
            "16db8b17d5834942a6c59b90ee87d4d2",
            "917f5a1202354566bdf49c7cad3e4031"
          ]
        },
        "id": "uWpBgAWdMNic",
        "outputId": "926c25b5-101f-48b2-83ce-9fe10b0f8c1f"
      },
      "outputs": [
        {
          "output_type": "display_data",
          "data": {
            "text/plain": [
              "FileUpload(value={}, description='Upload')"
            ],
            "application/vnd.jupyter.widget-view+json": {
              "version_major": 2,
              "version_minor": 0,
              "model_id": "1472446c35184499b38d9a2dd0a0c59e"
            }
          },
          "metadata": {}
        }
      ],
      "source": [
        "btn_upload=widgets.FileUpload()\n",
        "btn_upload"
      ]
    },
    {
      "cell_type": "code",
      "source": [
        "btn_upload=SimpleNamespace(data=['images/grizzly.jpg'])"
      ],
      "metadata": {
        "id": "95urgx-zOG9d"
      },
      "execution_count": 12,
      "outputs": []
    },
    {
      "cell_type": "code",
      "source": [
        "img=PILImage.create(btn_upload.data[-1])\n"
      ],
      "metadata": {
        "id": "lh23_TlDOajO"
      },
      "execution_count": 19,
      "outputs": []
    },
    {
      "cell_type": "code",
      "source": [
        "out_pl=widgets.Output()\n",
        "out_pl.clear_output()\n",
        "with out_pl: display(img.to_thumb(128,128))\n",
        "out_pl"
      ],
      "metadata": {
        "colab": {
          "base_uri": "https://localhost:8080/",
          "height": 102,
          "referenced_widgets": [
            "2705e758ed6e4ebd85941576559127df",
            "b642d756b3924cd58506ee70c13a2ad8"
          ]
        },
        "id": "67pJxT-9O-9a",
        "outputId": "fd903195-4226-407e-b2b9-6cf1eeb18cf7"
      },
      "execution_count": 20,
      "outputs": [
        {
          "output_type": "display_data",
          "data": {
            "text/plain": [
              "Output()"
            ],
            "application/vnd.jupyter.widget-view+json": {
              "version_major": 2,
              "version_minor": 0,
              "model_id": "2705e758ed6e4ebd85941576559127df"
            }
          },
          "metadata": {}
        }
      ]
    },
    {
      "cell_type": "code",
      "source": [
        "path=Path()\n",
        "learn_inf=load_learner(path/'export.pkl')"
      ],
      "metadata": {
        "id": "0K8j7QxVPbIl"
      },
      "execution_count": 22,
      "outputs": []
    },
    {
      "cell_type": "code",
      "source": [
        "pred,pred_idx, probs=learn_inf.predict(img)"
      ],
      "metadata": {
        "colab": {
          "base_uri": "https://localhost:8080/",
          "height": 17
        },
        "id": "EbSbp2r9P9hu",
        "outputId": "64b287ef-a1cc-4cd7-a715-b05abc612f4b"
      },
      "execution_count": 23,
      "outputs": [
        {
          "output_type": "display_data",
          "data": {
            "text/plain": [
              "<IPython.core.display.HTML object>"
            ],
            "text/html": [
              "\n",
              "<style>\n",
              "    /* Turns off some styling */\n",
              "    progress {\n",
              "        /* gets rid of default border in Firefox and Opera. */\n",
              "        border: none;\n",
              "        /* Needs to be in here for Safari polyfill so background images work as expected. */\n",
              "        background-size: auto;\n",
              "    }\n",
              "    .progress-bar-interrupted, .progress-bar-interrupted::-webkit-progress-bar {\n",
              "        background: #F44336;\n",
              "    }\n",
              "</style>\n"
            ]
          },
          "metadata": {}
        },
        {
          "output_type": "display_data",
          "data": {
            "text/plain": [
              "<IPython.core.display.HTML object>"
            ],
            "text/html": [
              ""
            ]
          },
          "metadata": {}
        }
      ]
    },
    {
      "cell_type": "code",
      "source": [
        "lbl_pred=widgets.Label()\n",
        "lbl_pred.value=f'Prediction: {pred}; Probability: {probs[pred_idx]:.04f}'"
      ],
      "metadata": {
        "id": "5y6tZuojQEVM"
      },
      "execution_count": 25,
      "outputs": []
    },
    {
      "cell_type": "code",
      "source": [
        "btn_run=widgets.Button(description='Classify')\n",
        "btn_run"
      ],
      "metadata": {
        "colab": {
          "base_uri": "https://localhost:8080/",
          "height": 49,
          "referenced_widgets": [
            "cd2ee57ee2574f5bba95c873ded95834",
            "ff2e9aa4e1c74fd0808a6d682c32512c",
            "e2d7a9e74fa143a9b3b67163d20d91b8"
          ]
        },
        "id": "r4SeS3rQQs36",
        "outputId": "9106c70d-a68f-44d2-beea-2f6591d35db9"
      },
      "execution_count": 26,
      "outputs": [
        {
          "output_type": "display_data",
          "data": {
            "text/plain": [
              "Button(description='Classify', style=ButtonStyle())"
            ],
            "application/vnd.jupyter.widget-view+json": {
              "version_major": 2,
              "version_minor": 0,
              "model_id": "cd2ee57ee2574f5bba95c873ded95834"
            }
          },
          "metadata": {}
        }
      ]
    },
    {
      "cell_type": "code",
      "source": [
        "def on_click_classify(change):\n",
        "  img=PILImage.create(btn_upload.data[-1])\n",
        "  out_pl.clear_output()\n",
        "  with out_pl: display(img.to_thumb(128,128))\n",
        "  pred,pred_idx,probs=learn_inf.predict(img)\n",
        "  lbl_pred.value=f'Prediction: {pred}; Probability: {probs[pred_idx]:.04f}'\n",
        "\n",
        "btn_run.on_click(on_click_classify)"
      ],
      "metadata": {
        "id": "bSaBJUbZQ3Uy"
      },
      "execution_count": 27,
      "outputs": []
    },
    {
      "cell_type": "code",
      "source": [
        "btn_upload=widgets.FileUpload()"
      ],
      "metadata": {
        "id": "K9vc5snTRb93"
      },
      "execution_count": 28,
      "outputs": []
    },
    {
      "cell_type": "code",
      "source": [
        "VBox([widgets.Label('Select your bear!'),\n",
        "      btn_upload, btn_run, out_pl, lbl_pred])"
      ],
      "metadata": {
        "colab": {
          "base_uri": "https://localhost:8080/",
          "height": 230,
          "referenced_widgets": [
            "472e1a6321a24a2badfc5354f371eb55",
            "d43a4ccec6954a42a2bb1b050579f6f2",
            "7f1fcffde1d442f8a03cde432b52f3cb",
            "cd2ee57ee2574f5bba95c873ded95834",
            "2705e758ed6e4ebd85941576559127df",
            "d8ac031ca32c40859d575aa9561f93bc",
            "32dc2a003b684bc7ad77558915b69668",
            "0cf131e1d1f044379468985090ea8e9d",
            "99357c89cba542c5b3539183e77492b0",
            "675367ddbfd6400e89260a84eaee2736",
            "aa94a8beec824e6fa4a8b199c55bfcd0",
            "ff2e9aa4e1c74fd0808a6d682c32512c",
            "e2d7a9e74fa143a9b3b67163d20d91b8",
            "4f0ff04a2f824012a8d9b9722c3ea0b1",
            "47d505de51d6434cb6b88171a157ff1c",
            "b642d756b3924cd58506ee70c13a2ad8"
          ]
        },
        "id": "Sgoii7VdRqg9",
        "outputId": "86f94e75-aaa3-4be7-dcd1-ebcb2d5d350f"
      },
      "execution_count": 29,
      "outputs": [
        {
          "output_type": "display_data",
          "data": {
            "text/plain": [
              "VBox(children=(Label(value='Select your bear!'), FileUpload(value={}, description='Upload'), Button(descriptio…"
            ],
            "application/vnd.jupyter.widget-view+json": {
              "version_major": 2,
              "version_minor": 0,
              "model_id": "472e1a6321a24a2badfc5354f371eb55"
            }
          },
          "metadata": {}
        },
        {
          "output_type": "display_data",
          "data": {
            "text/plain": [
              "<IPython.core.display.HTML object>"
            ],
            "text/html": [
              "\n",
              "<style>\n",
              "    /* Turns off some styling */\n",
              "    progress {\n",
              "        /* gets rid of default border in Firefox and Opera. */\n",
              "        border: none;\n",
              "        /* Needs to be in here for Safari polyfill so background images work as expected. */\n",
              "        background-size: auto;\n",
              "    }\n",
              "    .progress-bar-interrupted, .progress-bar-interrupted::-webkit-progress-bar {\n",
              "        background: #F44336;\n",
              "    }\n",
              "</style>\n"
            ]
          },
          "metadata": {}
        },
        {
          "output_type": "display_data",
          "data": {
            "text/plain": [
              "<IPython.core.display.HTML object>"
            ],
            "text/html": [
              ""
            ]
          },
          "metadata": {}
        },
        {
          "output_type": "display_data",
          "data": {
            "text/plain": [
              "<IPython.core.display.HTML object>"
            ],
            "text/html": [
              "\n",
              "<style>\n",
              "    /* Turns off some styling */\n",
              "    progress {\n",
              "        /* gets rid of default border in Firefox and Opera. */\n",
              "        border: none;\n",
              "        /* Needs to be in here for Safari polyfill so background images work as expected. */\n",
              "        background-size: auto;\n",
              "    }\n",
              "    .progress-bar-interrupted, .progress-bar-interrupted::-webkit-progress-bar {\n",
              "        background: #F44336;\n",
              "    }\n",
              "</style>\n"
            ]
          },
          "metadata": {}
        },
        {
          "output_type": "display_data",
          "data": {
            "text/plain": [
              "<IPython.core.display.HTML object>"
            ],
            "text/html": [
              ""
            ]
          },
          "metadata": {}
        }
      ]
    }
  ]
}